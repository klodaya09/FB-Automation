{
 "cells": [
  {
   "cell_type": "markdown",
   "metadata": {},
   "source": [
    "## Import all the necessary libraries"
   ]
  },
  {
   "cell_type": "code",
   "execution_count": 20,
   "metadata": {},
   "outputs": [
    {
     "name": "stdout",
     "output_type": "stream",
     "text": [
      "Successfully imported...\n"
     ]
    }
   ],
   "source": [
    "from selenium import webdriver\n",
    "import time\n",
    "from selenium.webdriver.common.keys import Keys\n",
    "from time import sleep\n",
    "from selenium.webdriver.support import expected_conditions as EC\n",
    "from selenium.common.exceptions import TimeoutException\n",
    "from selenium.webdriver.support.ui import WebDriverWait\n",
    "from selenium.webdriver.support.ui import Select\n",
    "from selenium.webdriver.common.by import By\n",
    "from selenium.common.exceptions import NoSuchElementException\n"
   ]
  },
  {
   "cell_type": "markdown",
   "metadata": {},
   "source": [
    "## Initialising chrome in selenium web driver"
   ]
  },
  {
   "cell_type": "code",
   "execution_count": 21,
   "metadata": {},
   "outputs": [
    {
     "name": "stdout",
     "output_type": "stream",
     "text": [
      "Opened facebook...\n"
     ]
    }
   ],
   "source": [
    "#executable_path=r'C:\\bin\\chromedriver.exe'\n",
    "options = webdriver.ChromeOptions()\n",
    "prefs = {\"profile.default_content_setting_values.notifications\": 2}  #to block the pop up notifications\n",
    "options.add_experimental_option(\"prefs\", prefs)\n",
    "driver = webdriver.Chrome(options=options)\n",
    "driver.maximize_window()\n",
    "driver.get('https://www.facebook.com/login.php?login_attempt=1&lwv=110')\n",
    "print(\"Opened facebook...\")"
   ]
  },
  {
   "cell_type": "markdown",
   "metadata": {},
   "source": [
    "##  Enter your email and password to login"
   ]
  },
  {
   "cell_type": "code",
   "execution_count": 22,
   "metadata": {},
   "outputs": [
    {
     "name": "stdout",
     "output_type": "stream",
     "text": [
      "Email Id entered...\n",
      "Password entered...\n"
     ]
    }
   ],
   "source": [
    "user_name = \"abc@xyz.com\"  #enter facebook mail id\n",
    "password = \"**********\"   #enter password\n",
    "element = driver.find_element_by_id(\"email\")\n",
    "element.send_keys(user_name)\n",
    "print(\"Email Id entered...\")\n",
    "element = driver.find_element_by_id(\"pass\")\n",
    "element.send_keys(password)\n",
    "print(\"Password entered...\")"
   ]
  },
  {
   "cell_type": "code",
   "execution_count": 23,
   "metadata": {},
   "outputs": [
    {
     "name": "stdout",
     "output_type": "stream",
     "text": [
      "FB opened...\n"
     ]
    }
   ],
   "source": [
    "button = driver.find_element_by_id('loginbutton')\n",
    "button.click()\n",
    "print(\"FB opened...\")"
   ]
  },
  {
   "cell_type": "markdown",
   "metadata": {},
   "source": [
    "## Posting message status on timeline"
   ]
  },
  {
   "cell_type": "code",
   "execution_count": 24,
   "metadata": {},
   "outputs": [
    {
     "name": "stdout",
     "output_type": "stream",
     "text": [
      "Start Typing...\n"
     ]
    }
   ],
   "source": [
    "wait = WebDriverWait(driver, 5)\n",
    "element = wait.until(EC.element_to_be_clickable((By.XPATH, \"/html/body/div[1]/div/div[1]/div[1]/div[3]/div/div/div[1]/div[1]/div/div[2]/div/div/div[3]/div/div[2]/div/div/div/div[1]/div/div[1]/span\")))\n",
    "element.click()\n",
    "sleep(5)\n",
    "print(\"Start Typing...\")"
   ]
  },
  {
   "cell_type": "code",
   "execution_count": 25,
   "metadata": {},
   "outputs": [
    {
     "name": "stdout",
     "output_type": "stream",
     "text": [
      "Good Afternoon\n"
     ]
    }
   ],
   "source": [
    "# you can either take input from user or directly type the message\n",
    "#msg = input()\n",
    "driver.switch_to.active_element.send_keys('Good Afternoon') "
   ]
  },
  {
   "cell_type": "code",
   "execution_count": 26,
   "metadata": {},
   "outputs": [
    {
     "name": "stdout",
     "output_type": "stream",
     "text": [
      "Posted on Timeline..\n"
     ]
    }
   ],
   "source": [
    "element = wait.until(EC.element_to_be_clickable((By.XPATH, \"/html/body/div[1]/div/div[1]/div/div[4]/div/div/div[1]/div/div[2]/div/div/div/form/div/div[1]/div/div/div[3]/div[2]/div/div[1]\")))\n",
    "element.click()\n",
    "sleep(5)\n",
    "print(\"Posted on Timeline..\")"
   ]
  },
  {
   "cell_type": "markdown",
   "metadata": {},
   "source": [
    "## Going to your timeline and acessing friend list"
   ]
  },
  {
   "cell_type": "code",
   "execution_count": 27,
   "metadata": {},
   "outputs": [
    {
     "name": "stdout",
     "output_type": "stream",
     "text": [
      "View my TL...\n"
     ]
    }
   ],
   "source": [
    "wait = WebDriverWait(driver, 5)\n",
    "element = wait.until(EC.element_to_be_clickable((By.XPATH, \"/html/body/div[1]/div/div[1]/div/div[3]/div/div/div[1]/div[1]/div/div[2]/div/div/div[3]/div/div[2]/div/div/div/div[1]/a/div[1]/div\")))\n",
    "element.click()\n",
    "sleep(5)\n",
    "print(\"View my TL...\")"
   ]
  },
  {
   "cell_type": "code",
   "execution_count": 28,
   "metadata": {},
   "outputs": [
    {
     "name": "stdout",
     "output_type": "stream",
     "text": [
      "Friendlist opened...\n"
     ]
    }
   ],
   "source": [
    "element = wait.until(EC.element_to_be_clickable((By.XPATH, \"/html/body/div[1]/div/div[1]/div/div[3]/div/div/div[1]/div[1]/div/div/div[3]/div/div/div/div[1]/div/div/div[1]/div/div/div/div/div/div/a[3]/div[1]/span\")))\n",
    "element.click()\n",
    "sleep(5)\n",
    "print(\"Friendlist opened...\")"
   ]
  },
  {
   "cell_type": "code",
   "execution_count": 29,
   "metadata": {},
   "outputs": [
    {
     "name": "stdout",
     "output_type": "stream",
     "text": [
      "Scrolling..\n",
      "Scrolling..\n",
      "Scrolling..\n",
      "Scrolling..\n",
      "Scrolling..\n",
      "Scrolling..\n"
     ]
    }
   ],
   "source": [
    "for i in range(6):\n",
    "    print(\"Scrolling..\")\n",
    "    driver.execute_script(\"window.scrollBy(0, 1000)\")\n",
    "    time.sleep(1)"
   ]
  },
  {
   "cell_type": "markdown",
   "metadata": {},
   "source": [
    "## Opening friend's timeline and commenting on his recent post"
   ]
  },
  {
   "cell_type": "code",
   "execution_count": 36,
   "metadata": {},
   "outputs": [
    {
     "name": "stdout",
     "output_type": "stream",
     "text": [
      "Sucessfully reached friend's TL...\n"
     ]
    }
   ],
   "source": [
    "#add name of your friend from your friendlist\n",
    "element = wait.until(EC.element_to_be_clickable((By.XPATH, \"/html/body/div[1]/div/div[1]/div/div[3]/div/div/div[1]/div[1]/div/div/div[4]/div/div/div/div/div/div/div/div/div[3]\")))\n",
    "element = wait.until(EC.element_to_be_clickable((By.XPATH, \"//*[text()='name surname']\"))) # text = enter name of your friend here - ''\n",
    "element.click()\n",
    "print(\"Sucessfully reached friend's TL...\")"
   ]
  },
  {
   "cell_type": "code",
   "execution_count": 37,
   "metadata": {},
   "outputs": [],
   "source": [
    "driver.execute_script(\"window.scrollTo(0,1000)\")\n",
    "sleep(7)"
   ]
  },
  {
   "cell_type": "code",
   "execution_count": 38,
   "metadata": {},
   "outputs": [],
   "source": [
    "element = wait.until(EC.element_to_be_clickable((By.XPATH,\"/html/body/div[1]/div/div[1]/div/div[3]/div/div/div[1]/div[1]/div/div/div[4]/div[2]/div/div[2]/div[3]/div[1]/div/div/div/div/div/div/div/div/div/div/div[2]/div/div[4]/div/div/div[2]/div[5]/div[2]/div/div/div/div/form/div/div/div[2]/div/div/div/div\")))\n",
    "element.click()"
   ]
  },
  {
   "cell_type": "code",
   "execution_count": 39,
   "metadata": {},
   "outputs": [],
   "source": [
    "# you can either take input from user or directly type your comment\n",
    "#msg = input()\n",
    "driver.switch_to.active_element.send_keys('Beautiful')"
   ]
  },
  {
   "cell_type": "code",
   "execution_count": 40,
   "metadata": {},
   "outputs": [],
   "source": [
    "element.send_keys(Keys.ENTER)"
   ]
  },
  {
   "cell_type": "markdown",
   "metadata": {},
   "source": [
    "## Sending friend request to one of your friends"
   ]
  },
  {
   "cell_type": "code",
   "execution_count": 43,
   "metadata": {},
   "outputs": [
    {
     "name": "stdout",
     "output_type": "stream",
     "text": [
      "Reached Back To TL..\n"
     ]
    }
   ],
   "source": [
    "element = wait.until(EC.element_to_be_clickable((By.XPATH, \"/html/body/div[1]/div/div[1]/div/div[3]/div/div/div[1]/div[1]/div/div/div[4]/div[2]/div/div[2]/div[1]/div/div/div/div/div[1]/a/div[1]/div\")))\n",
    "element.click()\n",
    "sleep(5)\n",
    "print(\"Reached Back To TL..\")"
   ]
  },
  {
   "cell_type": "code",
   "execution_count": 44,
   "metadata": {},
   "outputs": [
    {
     "name": "stdout",
     "output_type": "stream",
     "text": [
      "Found the friend...\n"
     ]
    }
   ],
   "source": [
    "#put the proper username to get accurate results\n",
    "driver.get(\"https://www.facebook.com/username\") #add your friends name.surname\n",
    "sleep(5)\n",
    "print(\"Found the friend...\")"
   ]
  },
  {
   "cell_type": "code",
   "execution_count": 45,
   "metadata": {},
   "outputs": [
    {
     "name": "stdout",
     "output_type": "stream",
     "text": [
      "Friend request sent sucessfully...\n"
     ]
    }
   ],
   "source": [
    "element = wait.until(EC.element_to_be_clickable((By.XPATH, \"/html/body/div[1]/div/div[1]/div[1]/div[3]/div/div/div[1]/div[1]/div/div/div[4]/div[1]/div/div/div/div/div/div/div/div[2]/div\")))\n",
    "element.click()\n",
    "sleep(5)\n",
    "print(\"Friend request sent sucessfully...\")"
   ]
  },
  {
   "cell_type": "markdown",
   "metadata": {},
   "source": [
    "## Logout of Facebook"
   ]
  },
  {
   "cell_type": "code",
   "execution_count": 46,
   "metadata": {},
   "outputs": [],
   "source": [
    "element = wait.until(EC.element_to_be_clickable((By.XPATH, \"/html/body/div[1]/div/div[1]/div[1]/div[2]/div[4]/div[1]/span/div/div[1]\")))\n",
    "element.click()"
   ]
  },
  {
   "cell_type": "code",
   "execution_count": 47,
   "metadata": {},
   "outputs": [
    {
     "name": "stdout",
     "output_type": "stream",
     "text": [
      "Sucessfully logged out of FaceBook...\n"
     ]
    }
   ],
   "source": [
    "element = wait.until(EC.element_to_be_clickable((By.XPATH, \"/html/body/div[1]/div/div[1]/div[1]/div[2]/div[4]/div[2]/div/div/div[1]/div[1]/div/div/div/div/div/div/div/div/div[1]/div/div[3]/div/div[4]/div\")))\n",
    "element.click()\n",
    "print(\"Sucessfully logged out of FaceBook...\")"
   ]
  }
 ],
 "metadata": {
  "kernelspec": {
   "display_name": "Python 3",
   "language": "python",
   "name": "python3"
  },
  "language_info": {
   "codemirror_mode": {
    "name": "ipython",
    "version": 3
   },
   "file_extension": ".py",
   "mimetype": "text/x-python",
   "name": "python",
   "nbconvert_exporter": "python",
   "pygments_lexer": "ipython3",
   "version": "3.8.5"
  }
 },
 "nbformat": 4,
 "nbformat_minor": 4
}
